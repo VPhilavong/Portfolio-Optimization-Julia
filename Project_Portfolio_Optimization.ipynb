{
 "cells": [
  {
   "cell_type": "markdown",
   "id": "ed428b65-635d-404e-94df-5d733ce8310c",
   "metadata": {},
   "source": [
    "# Portfolio Optimization Project\n",
    "\n",
    "### CS/ECE/ISyE 524 — Introduction to Optimization — Fall 2024\n",
    "\n",
    "### Project Members: Pawin Linmaneechote, Vincent Philavong, Jiajie Yao"
   ]
  },
  {
   "cell_type": "markdown",
   "metadata": {},
   "source": [
    "## Table of Contents\n",
    "1. Introduction\n",
    "2. Mathematical Model\n",
    "3. Solution\n",
    "4. Results and Discussion\n",
    "5. Conclusion\n",
    "6. Appendix\n"
   ]
  },
  {
   "cell_type": "markdown",
   "metadata": {},
   "source": [
    "# 1. Introduction\n"
   ]
  },
  {
   "cell_type": "markdown",
   "metadata": {},
   "source": [
    "# 2. Mathematical Model"
   ]
  },
  {
   "cell_type": "code",
   "execution_count": 10,
   "id": "a7126912",
   "metadata": {},
   "outputs": [
    {
     "name": "stdout",
     "output_type": "stream",
     "text": [
      "\u001b[1m25×5 DataFrame\u001b[0m\n",
      "\u001b[1m Row \u001b[0m│\u001b[1m StockName \u001b[0m\u001b[1m OpenStock \u001b[0m\u001b[1m CloseStock \u001b[0m\u001b[1m EquityPercent \u001b[0m\u001b[1m StockSector            \u001b[0m\n",
      "     │\u001b[90m String    \u001b[0m\u001b[90m Float64   \u001b[0m\u001b[90m Float64    \u001b[0m\u001b[90m Float64       \u001b[0m\u001b[90m String31?              \u001b[0m\n",
      "─────┼─────────────────────────────────────────────────────────────────────────\n",
      "   1 │ AAPL         64.1925      223.45       248.094   Technology\n",
      "   2 │ UBER         26.06         74.15       184.536   Technology\n",
      "   3 │ NVDA          5.216       139.91      2582.32    Technology\n",
      "   4 │ MSFT        144.37        411.46       185.004   Technology\n",
      "   5 │ AMD          36.06        141.66       292.845   Technology\n",
      "   6 │ DFS          83.24        151.85        82.4243  Financial\n",
      "   7 │ JPM         128.69        221.49        72.1113  Financial\n",
      "   8 │ SYF          36.34         56.82        56.3566  Financial\n",
      "   9 │ AXP         118.89        275.94       132.097   Financial\n",
      "  10 │ GS          218.01        526.96       141.714   Financial\n",
      "  11 │ PFE          35.6831       27.99       -21.5595  Health Care\n",
      "  12 │ JNJ         130.42        158.35        21.4154  Health Care\n",
      "  13 │ MRK          79.7328      101.65        27.4883  Health Care\n",
      "  14 │ UNH         249.71        567.03       127.075   Health Care\n",
      "  15 │ ABBV         81.77        201.68       146.643   Health Care\n",
      "  16 │ META        194.03        572.43       195.021   Communication Services\n",
      "  17 │ GOOG         64.473       171.41       165.863   Communication Services\n",
      "  18 │ NFLX        288.19        763.91       165.072   Communication Services\n",
      "  19 │ TMUS         81.6         227.11       178.321   Communication Services\n",
      "  20 │ DIS         131.6          96.63       -26.573   Communication Services\n",
      "  21 │ CAT         146.47        383.37       161.74    Industrials\n",
      "  22 │ RTX          93.0271      118.98        27.8983  Industrials\n",
      "  23 │ BA          358.86        151.0        -57.9223  Industrials\n",
      "  24 │ UNP         177.69        233.87        31.6169  Industrials\n",
      "  25 │ ETN          90.75        337.48       271.879   Industrials\n"
     ]
    }
   ],
   "source": [
    "using CSV, DataFrames, Dates\n",
    "\n",
    "directory_path = \"data_files/\"\n",
    "\n",
    "result_df = DataFrame(StockName = String[], OpenStock = Float64[], \n",
    "                      CloseStock = Float64[], EquityPercent = Float64[])\n",
    "\n",
    "stock_sector = CSV.read(\"Stock Sheet.csv\", DataFrame)\n",
    "rename!(stock_sector, Symbol(\"Ticker\") => :StockName) \n",
    "\n",
    "for file in readdir(directory_path)\n",
    "    if endswith(file, \".csv\")\n",
    "        file_path = joinpath(directory_path, file)\n",
    "        stock_df = CSV.read(file_path, DataFrame)\n",
    "        \n",
    "        stock_df.Date = Date.(string.(stock_df.Date), \"yyyy-mm-dd\")\n",
    "        sort!(stock_df, :Date)  \n",
    "        \n",
    "        stock_name = splitext(basename(file))[1]\n",
    "        \n",
    "        open_price = stock_df.Open[1]\n",
    "        close_price = stock_df.Close[end]\n",
    "\n",
    "        equity_percent = ((close_price - open_price) / open_price) * 100\n",
    "\n",
    "        push!(result_df, (stock_name, open_price, close_price, equity_percent))\n",
    "    end\n",
    "end\n",
    "\n",
    "final_df = leftjoin(result_df, stock_sector[:, [:StockName, :StockSector]], on = :StockName)\n",
    "\n",
    "select!(final_df, [:StockName, :OpenStock, :CloseStock, :EquityPercent, :StockSector])\n",
    "\n",
    "println(final_df)"
   ]
  },
  {
   "cell_type": "code",
   "execution_count": 69,
   "id": "183c32d6",
   "metadata": {},
   "outputs": [
    {
     "data": {
      "text/html": [
       "<div><div style = \"float: left;\"><span>25×6 DataFrame</span></div><div style = \"clear: both;\"></div></div><div class = \"data-frame\" style = \"overflow-x: scroll;\"><table class = \"data-frame\" style = \"margin-bottom: 6px;\"><thead><tr class = \"header\"><th class = \"rowNumber\" style = \"font-weight: bold; text-align: right;\">Row</th><th style = \"text-align: left;\">StockName</th><th style = \"text-align: left;\">OpenStock</th><th style = \"text-align: left;\">CloseStock</th><th style = \"text-align: left;\">EquityPercent</th><th style = \"text-align: left;\">EquityStdDev</th><th style = \"text-align: left;\">StockSector</th></tr><tr class = \"subheader headerLastRow\"><th class = \"rowNumber\" style = \"font-weight: bold; text-align: right;\"></th><th title = \"String\" style = \"text-align: left;\">String</th><th title = \"Float64\" style = \"text-align: left;\">Float64</th><th title = \"Float64\" style = \"text-align: left;\">Float64</th><th title = \"Float64\" style = \"text-align: left;\">Float64</th><th title = \"Float64\" style = \"text-align: left;\">Float64</th><th title = \"Union{Missing, String31}\" style = \"text-align: left;\">String31?</th></tr></thead><tbody><tr><td class = \"rowNumber\" style = \"font-weight: bold; text-align: right;\">1</td><td style = \"text-align: left;\">AAPL</td><td style = \"text-align: right;\">64.1925</td><td style = \"text-align: right;\">223.45</td><td style = \"text-align: right;\">0.183045</td><td style = \"text-align: right;\">1.53954</td><td style = \"text-align: left;\">Technology</td></tr><tr><td class = \"rowNumber\" style = \"font-weight: bold; text-align: right;\">2</td><td style = \"text-align: left;\">UBER</td><td style = \"text-align: right;\">26.06</td><td style = \"text-align: right;\">74.15</td><td style = \"text-align: right;\">3.37683</td><td style = \"text-align: right;\">2.72985</td><td style = \"text-align: left;\">Technology</td></tr><tr><td class = \"rowNumber\" style = \"font-weight: bold; text-align: right;\">3</td><td style = \"text-align: left;\">NVDA</td><td style = \"text-align: right;\">5.216</td><td style = \"text-align: right;\">139.91</td><td style = \"text-align: right;\">-0.484087</td><td style = \"text-align: right;\">2.67358</td><td style = \"text-align: left;\">Technology</td></tr><tr><td class = \"rowNumber\" style = \"font-weight: bold; text-align: right;\">4</td><td style = \"text-align: left;\">MSFT</td><td style = \"text-align: right;\">144.37</td><td style = \"text-align: right;\">411.46</td><td style = \"text-align: right;\">-0.214724</td><td style = \"text-align: right;\">1.44934</td><td style = \"text-align: left;\">Technology</td></tr><tr><td class = \"rowNumber\" style = \"font-weight: bold; text-align: right;\">5</td><td style = \"text-align: left;\">AMD</td><td style = \"text-align: right;\">36.06</td><td style = \"text-align: right;\">141.66</td><td style = \"text-align: right;\">-0.360513</td><td style = \"text-align: right;\">2.73579</td><td style = \"text-align: left;\">Technology</td></tr><tr><td class = \"rowNumber\" style = \"font-weight: bold; text-align: right;\">6</td><td style = \"text-align: left;\">DFS</td><td style = \"text-align: right;\">83.24</td><td style = \"text-align: right;\">151.85</td><td style = \"text-align: right;\">-0.0720783</td><td style = \"text-align: right;\">2.18694</td><td style = \"text-align: left;\">Financial</td></tr><tr><td class = \"rowNumber\" style = \"font-weight: bold; text-align: right;\">7</td><td style = \"text-align: left;\">JPM</td><td style = \"text-align: right;\">128.69</td><td style = \"text-align: right;\">221.49</td><td style = \"text-align: right;\">0.474008</td><td style = \"text-align: right;\">1.37905</td><td style = \"text-align: left;\">Financial</td></tr><tr><td class = \"rowNumber\" style = \"font-weight: bold; text-align: right;\">8</td><td style = \"text-align: left;\">SYF</td><td style = \"text-align: right;\">36.34</td><td style = \"text-align: right;\">56.82</td><td style = \"text-align: right;\">1.32086</td><td style = \"text-align: right;\">2.15037</td><td style = \"text-align: left;\">Financial</td></tr><tr><td class = \"rowNumber\" style = \"font-weight: bold; text-align: right;\">9</td><td style = \"text-align: left;\">AXP</td><td style = \"text-align: right;\">118.89</td><td style = \"text-align: right;\">275.94</td><td style = \"text-align: right;\">0.672893</td><td style = \"text-align: right;\">1.67668</td><td style = \"text-align: left;\">Financial</td></tr><tr><td class = \"rowNumber\" style = \"font-weight: bold; text-align: right;\">10</td><td style = \"text-align: left;\">GS</td><td style = \"text-align: right;\">218.01</td><td style = \"text-align: right;\">526.96</td><td style = \"text-align: right;\">0.188066</td><td style = \"text-align: right;\">1.51123</td><td style = \"text-align: left;\">Financial</td></tr><tr><td class = \"rowNumber\" style = \"font-weight: bold; text-align: right;\">11</td><td style = \"text-align: left;\">PFE</td><td style = \"text-align: right;\">35.6831</td><td style = \"text-align: right;\">27.99</td><td style = \"text-align: right;\">0.0</td><td style = \"text-align: right;\">1.38978</td><td style = \"text-align: left;\">Health Care</td></tr><tr><td class = \"rowNumber\" style = \"font-weight: bold; text-align: right;\">12</td><td style = \"text-align: left;\">JNJ</td><td style = \"text-align: right;\">130.42</td><td style = \"text-align: right;\">158.35</td><td style = \"text-align: right;\">0.414054</td><td style = \"text-align: right;\">1.01372</td><td style = \"text-align: left;\">Health Care</td></tr><tr><td class = \"rowNumber\" style = \"font-weight: bold; text-align: right;\">13</td><td style = \"text-align: left;\">MRK</td><td style = \"text-align: right;\">79.7328</td><td style = \"text-align: right;\">101.65</td><td style = \"text-align: right;\">-0.370998</td><td style = \"text-align: right;\">1.17616</td><td style = \"text-align: left;\">Health Care</td></tr><tr><td class = \"rowNumber\" style = \"font-weight: bold; text-align: right;\">14</td><td style = \"text-align: left;\">UNH</td><td style = \"text-align: right;\">249.71</td><td style = \"text-align: right;\">567.03</td><td style = \"text-align: right;\">0.324375</td><td style = \"text-align: right;\">1.44256</td><td style = \"text-align: left;\">Health Care</td></tr><tr><td class = \"rowNumber\" style = \"font-weight: bold; text-align: right;\">15</td><td style = \"text-align: left;\">ABBV</td><td style = \"text-align: right;\">81.77</td><td style = \"text-align: right;\">201.68</td><td style = \"text-align: right;\">0.379118</td><td style = \"text-align: right;\">1.23284</td><td style = \"text-align: left;\">Health Care</td></tr><tr><td class = \"rowNumber\" style = \"font-weight: bold; text-align: right;\">16</td><td style = \"text-align: left;\">META</td><td style = \"text-align: right;\">194.03</td><td style = \"text-align: right;\">572.43</td><td style = \"text-align: right;\">-1.27815</td><td style = \"text-align: right;\">1.89344</td><td style = \"text-align: left;\">Communication Services</td></tr><tr><td class = \"rowNumber\" style = \"font-weight: bold; text-align: right;\">17</td><td style = \"text-align: left;\">GOOG</td><td style = \"text-align: right;\">64.473</td><td style = \"text-align: right;\">171.41</td><td style = \"text-align: right;\">0.181465</td><td style = \"text-align: right;\">1.49259</td><td style = \"text-align: left;\">Communication Services</td></tr><tr><td class = \"rowNumber\" style = \"font-weight: bold; text-align: right;\">18</td><td style = \"text-align: left;\">NFLX</td><td style = \"text-align: right;\">288.19</td><td style = \"text-align: right;\">763.91</td><td style = \"text-align: right;\">0.138795</td><td style = \"text-align: right;\">2.09297</td><td style = \"text-align: left;\">Communication Services</td></tr><tr><td class = \"rowNumber\" style = \"font-weight: bold; text-align: right;\">19</td><td style = \"text-align: left;\">TMUS</td><td style = \"text-align: right;\">81.6</td><td style = \"text-align: right;\">227.11</td><td style = \"text-align: right;\">0.318631</td><td style = \"text-align: right;\">1.33483</td><td style = \"text-align: left;\">Communication Services</td></tr><tr><td class = \"rowNumber\" style = \"font-weight: bold; text-align: right;\">20</td><td style = \"text-align: left;\">DIS</td><td style = \"text-align: right;\">131.6</td><td style = \"text-align: right;\">96.63</td><td style = \"text-align: right;\">-0.250761</td><td style = \"text-align: right;\">1.55938</td><td style = \"text-align: left;\">Communication Services</td></tr><tr><td class = \"rowNumber\" style = \"font-weight: bold; text-align: right;\">21</td><td style = \"text-align: left;\">CAT</td><td style = \"text-align: right;\">146.47</td><td style = \"text-align: right;\">383.37</td><td style = \"text-align: right;\">-0.669076</td><td style = \"text-align: right;\">1.55802</td><td style = \"text-align: left;\">Industrials</td></tr><tr><td class = \"rowNumber\" style = \"font-weight: bold; text-align: right;\">22</td><td style = \"text-align: left;\">RTX</td><td style = \"text-align: right;\">93.0271</td><td style = \"text-align: right;\">118.98</td><td style = \"text-align: right;\">0.331487</td><td style = \"text-align: right;\">1.54866</td><td style = \"text-align: left;\">Industrials</td></tr><tr><td class = \"rowNumber\" style = \"font-weight: bold; text-align: right;\">23</td><td style = \"text-align: left;\">BA</td><td style = \"text-align: right;\">358.86</td><td style = \"text-align: right;\">151.0</td><td style = \"text-align: right;\">-1.30134</td><td style = \"text-align: right;\">2.30789</td><td style = \"text-align: left;\">Industrials</td></tr><tr><td class = \"rowNumber\" style = \"font-weight: bold; text-align: right;\">24</td><td style = \"text-align: left;\">UNP</td><td style = \"text-align: right;\">177.69</td><td style = \"text-align: right;\">233.87</td><td style = \"text-align: right;\">-0.759753</td><td style = \"text-align: right;\">1.25597</td><td style = \"text-align: left;\">Industrials</td></tr><tr><td class = \"rowNumber\" style = \"font-weight: bold; text-align: right;\">25</td><td style = \"text-align: left;\">ETN</td><td style = \"text-align: right;\">90.75</td><td style = \"text-align: right;\">337.48</td><td style = \"text-align: right;\">0.495864</td><td style = \"text-align: right;\">1.58448</td><td style = \"text-align: left;\">Industrials</td></tr></tbody></table></div>"
      ],
      "text/latex": [
       "\\begin{tabular}{r|cccccc}\n",
       "\t& StockName & OpenStock & CloseStock & EquityPercent & EquityStdDev & StockSector\\\\\n",
       "\t\\hline\n",
       "\t& String & Float64 & Float64 & Float64 & Float64 & String31?\\\\\n",
       "\t\\hline\n",
       "\t1 & AAPL & 64.1925 & 223.45 & 0.183045 & 1.53954 & Technology \\\\\n",
       "\t2 & UBER & 26.06 & 74.15 & 3.37683 & 2.72985 & Technology \\\\\n",
       "\t3 & NVDA & 5.216 & 139.91 & -0.484087 & 2.67358 & Technology \\\\\n",
       "\t4 & MSFT & 144.37 & 411.46 & -0.214724 & 1.44934 & Technology \\\\\n",
       "\t5 & AMD & 36.06 & 141.66 & -0.360513 & 2.73579 & Technology \\\\\n",
       "\t6 & DFS & 83.24 & 151.85 & -0.0720783 & 2.18694 & Financial \\\\\n",
       "\t7 & JPM & 128.69 & 221.49 & 0.474008 & 1.37905 & Financial \\\\\n",
       "\t8 & SYF & 36.34 & 56.82 & 1.32086 & 2.15037 & Financial \\\\\n",
       "\t9 & AXP & 118.89 & 275.94 & 0.672893 & 1.67668 & Financial \\\\\n",
       "\t10 & GS & 218.01 & 526.96 & 0.188066 & 1.51123 & Financial \\\\\n",
       "\t11 & PFE & 35.6831 & 27.99 & 0.0 & 1.38978 & Health Care \\\\\n",
       "\t12 & JNJ & 130.42 & 158.35 & 0.414054 & 1.01372 & Health Care \\\\\n",
       "\t13 & MRK & 79.7328 & 101.65 & -0.370998 & 1.17616 & Health Care \\\\\n",
       "\t14 & UNH & 249.71 & 567.03 & 0.324375 & 1.44256 & Health Care \\\\\n",
       "\t15 & ABBV & 81.77 & 201.68 & 0.379118 & 1.23284 & Health Care \\\\\n",
       "\t16 & META & 194.03 & 572.43 & -1.27815 & 1.89344 & Communication Services \\\\\n",
       "\t17 & GOOG & 64.473 & 171.41 & 0.181465 & 1.49259 & Communication Services \\\\\n",
       "\t18 & NFLX & 288.19 & 763.91 & 0.138795 & 2.09297 & Communication Services \\\\\n",
       "\t19 & TMUS & 81.6 & 227.11 & 0.318631 & 1.33483 & Communication Services \\\\\n",
       "\t20 & DIS & 131.6 & 96.63 & -0.250761 & 1.55938 & Communication Services \\\\\n",
       "\t21 & CAT & 146.47 & 383.37 & -0.669076 & 1.55802 & Industrials \\\\\n",
       "\t22 & RTX & 93.0271 & 118.98 & 0.331487 & 1.54866 & Industrials \\\\\n",
       "\t23 & BA & 358.86 & 151.0 & -1.30134 & 2.30789 & Industrials \\\\\n",
       "\t24 & UNP & 177.69 & 233.87 & -0.759753 & 1.25597 & Industrials \\\\\n",
       "\t$\\dots$ & $\\dots$ & $\\dots$ & $\\dots$ & $\\dots$ & $\\dots$ & $\\dots$ \\\\\n",
       "\\end{tabular}\n"
      ],
      "text/plain": [
       "\u001b[1m25×6 DataFrame\u001b[0m\n",
       "\u001b[1m Row \u001b[0m│\u001b[1m StockName \u001b[0m\u001b[1m OpenStock \u001b[0m\u001b[1m CloseStock \u001b[0m\u001b[1m EquityPercent \u001b[0m\u001b[1m EquityStdDev \u001b[0m\u001b[1m StockSec\u001b[0m ⋯\n",
       "     │\u001b[90m String    \u001b[0m\u001b[90m Float64   \u001b[0m\u001b[90m Float64    \u001b[0m\u001b[90m Float64       \u001b[0m\u001b[90m Float64      \u001b[0m\u001b[90m String31\u001b[0m ⋯\n",
       "─────┼──────────────────────────────────────────────────────────────────────────\n",
       "   1 │ AAPL         64.1925      223.45      0.183045        1.53954  Technolo ⋯\n",
       "   2 │ UBER         26.06         74.15      3.37683         2.72985  Technolo\n",
       "   3 │ NVDA          5.216       139.91     -0.484087        2.67358  Technolo\n",
       "   4 │ MSFT        144.37        411.46     -0.214724        1.44934  Technolo\n",
       "   5 │ AMD          36.06        141.66     -0.360513        2.73579  Technolo ⋯\n",
       "   6 │ DFS          83.24        151.85     -0.0720783       2.18694  Financia\n",
       "   7 │ JPM         128.69        221.49      0.474008        1.37905  Financia\n",
       "   8 │ SYF          36.34         56.82      1.32086         2.15037  Financia\n",
       "  ⋮  │     ⋮          ⋮          ⋮             ⋮             ⋮                 ⋱\n",
       "  19 │ TMUS         81.6         227.11      0.318631        1.33483  Communic ⋯\n",
       "  20 │ DIS         131.6          96.63     -0.250761        1.55938  Communic\n",
       "  21 │ CAT         146.47        383.37     -0.669076        1.55802  Industri\n",
       "  22 │ RTX          93.0271      118.98      0.331487        1.54866  Industri\n",
       "  23 │ BA          358.86        151.0      -1.30134         2.30789  Industri ⋯\n",
       "  24 │ UNP         177.69        233.87     -0.759753        1.25597  Industri\n",
       "  25 │ ETN          90.75        337.48      0.495864        1.58448  Industri\n",
       "\u001b[36m                                                    1 column and 10 rows omitted\u001b[0m"
      ]
     },
     "metadata": {},
     "output_type": "display_data"
    }
   ],
   "source": [
    "using CSV, DataFrames, Dates, Statistics\n",
    "\n",
    "directory_path = \"data_files/\"\n",
    "\n",
    "# Initialize an empty DataFrame\n",
    "result_df = DataFrame(StockName = String[], OpenStock = Float64[], CloseStock = Float64[],\n",
    "                      EquityPercent = Float64[], Date = Date[])\n",
    "\n",
    "# Read stock sector data\n",
    "stock_sector = CSV.read(\"Stock Sheet.csv\", DataFrame)\n",
    "rename!(stock_sector, Symbol(\"Ticker\") => :StockName)\n",
    "\n",
    "# Process each file in the directory\n",
    "for file in readdir(directory_path)\n",
    "    if endswith(file, \".csv\")\n",
    "        file_path = joinpath(directory_path, file)\n",
    "        stock_df = CSV.read(file_path, DataFrame)\n",
    "        \n",
    "        stock_df.Date = Date.(string.(stock_df.Date), \"yyyy-mm-dd\")\n",
    "        sort!(stock_df, :Date)  \n",
    "\n",
    "        stock_name = splitext(basename(file))[1]\n",
    "        \n",
    "        # Calculate Open and Close prices\n",
    "        open_price = stock_df.Open[1]\n",
    "        close_price = stock_df.Close[end]\n",
    "\n",
    "        # Calculate daily EquityPercent\n",
    "        stock_df.EquityPercent = ((stock_df.Close .- stock_df.Open) ./ stock_df.Open) * 100\n",
    "\n",
    "        # Append OpenStock, CloseStock, and EquityPercent to result_df\n",
    "        for row in eachrow(stock_df)\n",
    "            push!(result_df, (stock_name, open_price, close_price, row.EquityPercent, row.Date))\n",
    "        end\n",
    "    end\n",
    "end\n",
    "\n",
    "# Group by StockName to compute EquityStdDev\n",
    "grouped = groupby(result_df, :StockName)\n",
    "summary_df = combine(grouped, \n",
    "    :OpenStock => first,              # First OpenStock for each stock\n",
    "    :CloseStock => last,              # Last CloseStock for each stock\n",
    "    :EquityPercent => std => :EquityStdDev,  # Standard deviation of EquityPercent\n",
    "    :EquityPercent => first => :EquityPercent  # Use first EquityPercent value\n",
    ")\n",
    "\n",
    "# Join with StockSector to include the sector\n",
    "final_df = leftjoin(summary_df, stock_sector[:, [:StockName, :StockSector]], on = :StockName)\n",
    "\n",
    "rename!(final_df, Dict(\n",
    "    :OpenStock_first => :OpenStock,\n",
    "    :CloseStock_last => :CloseStock\n",
    "))\n",
    "\n",
    "final_df\n",
    "\n",
    "select!(final_df, [:StockName, :OpenStock, :CloseStock, :EquityPercent, :EquityStdDev, :StockSector])\n",
    "\n",
    "println(\"Final DataFrame:\")\n",
    "final_df"
   ]
  },
  {
   "cell_type": "code",
   "execution_count": 75,
   "id": "c1fd932e",
   "metadata": {},
   "outputs": [
    {
     "data": {
      "text/plain": [
       "25×25 Matrix{Float64}:\n",
       "  0.000157718   0.00834503  -0.00155248   …  -0.00225916    0.000959636\n",
       "  0.00834503    0.441543    -0.0821434       -0.119534      0.0507752\n",
       " -0.00155248   -0.0821434    0.0152817        0.0222378    -0.00944607\n",
       " -0.000861967  -0.0456075    0.00848468       0.0123468    -0.00524463\n",
       " -0.0012357    -0.065382     0.0121635        0.0177001    -0.0075186\n",
       " -0.000496293  -0.0262593    0.00488521   …   0.0071089    -0.00301969\n",
       "  0.000903607   0.0478107   -0.00889455      -0.0129433     0.00549798\n",
       "  0.00307452    0.162676    -0.0302637       -0.0440394     0.0187069\n",
       "  0.00141345    0.0747871   -0.0139132       -0.0202463     0.00860013\n",
       "  0.000170591   0.00902612  -0.00167919      -0.00244354    0.00103796\n",
       "  ⋮                                       ⋱                \n",
       "  0.000153669   0.00813077  -0.00151262      -0.00220115    0.000934997\n",
       "  4.42842e-5    0.00234312  -0.000435906     -0.000634326   0.000269446\n",
       "  0.000505296   0.0267357   -0.00497382      -0.00723785    0.00307447\n",
       " -0.000954349  -0.0504955    0.00939403       0.0136701    -0.00580673\n",
       " -0.0020267    -0.107235     0.0199496    …   0.0290305    -0.0123315\n",
       "  0.000538253   0.0284795   -0.00529824      -0.00770993    0.00327499\n",
       " -0.00364752   -0.192994     0.0359039        0.052247     -0.0221933\n",
       " -0.00225916   -0.119534     0.0222378        0.0323602    -0.0137458\n",
       "  0.000959636   0.0507752   -0.00944607      -0.0137458     0.00583889"
      ]
     },
     "metadata": {},
     "output_type": "display_data"
    }
   ],
   "source": [
    "equity_pct = final_df.EquityPercent\n",
    "\n",
    "# Compute the covariance matrix\n",
    "n = length(equity_pct)\n",
    "cov_matrix = zeros(n, n)  # Initialize a covariance matrix\n",
    "\n",
    "for i in 1:n\n",
    "    for j in 1:n\n",
    "        cov_matrix[i, j] = (equity_pct[i] - mean(equity_pct)) * (equity_pct[j] - mean(equity_pct)) / (n - 1)\n",
    "    end\n",
    "end\n",
    "\n",
    "println(\"Covariance Matrix (Without Correlations):\")\n",
    "cov_matrix"
   ]
  },
  {
   "cell_type": "code",
   "execution_count": null,
   "id": "2a53c848",
   "metadata": {},
   "outputs": [
    {
     "ename": "UndefVarError",
     "evalue": "UndefVarError: `CloseStock` not defined in `Main`\nSuggestion: check for spelling errors or missing imports.",
     "output_type": "error",
     "traceback": [
      "UndefVarError: `CloseStock` not defined in `Main`\n",
      "Suggestion: check for spelling errors or missing imports.\n",
      "\n",
      "Stacktrace:\n",
      " [1] extract_adj_close(directory_path::String)\n",
      "   @ Main c:\\Users\\Phila\\program_workspace\\CS524\\Project\\program\\jl_notebook_cell_df34fa98e69747e1a8f8a730347b8e2f_X31sZmlsZQ==.jl:8\n",
      " [2] top-level scope\n",
      "   @ c:\\Users\\Phila\\program_workspace\\CS524\\Project\\program\\jl_notebook_cell_df34fa98e69747e1a8f8a730347b8e2f_X31sZmlsZQ==.jl:13"
     ]
    }
   ],
   "source": [
    "function extract_adj_close(filenames::Vector{String})\n",
    "    \n",
    "    adj_close_data = []\n",
    "\n",
    "    for file in filenames\n",
    "        df = CSV.read(file, DataFrame)\n",
    "        push!(adj_close_data, df[!, \"Adj Close\"])\n",
    "    end\n",
    "\n",
    "    return hcat(adj_close_data...)  \n",
    "    \n",
    "end\n",
    "returns_matrix = extract_adj_close(data_files)\n",
    "println(\"Returns Matrix:\\n\", returns_matrix)"
   ]
  },
  {
   "cell_type": "code",
   "execution_count": 21,
   "id": "983a73ca",
   "metadata": {},
   "outputs": [
    {
     "ename": "UndefVarError",
     "evalue": "UndefVarError: `returns_matrix` not defined in `Main`\nSuggestion: check for spelling errors or missing imports.",
     "output_type": "error",
     "traceback": [
      "UndefVarError: `returns_matrix` not defined in `Main`\n",
      "Suggestion: check for spelling errors or missing imports.\n",
      "\n",
      "Stacktrace:\n",
      " [1] top-level scope\n",
      "   @ c:\\Users\\Phila\\program_workspace\\CS524\\Project\\program\\jl_notebook_cell_df34fa98e69747e1a8f8a730347b8e2f_X16sZmlsZQ==.jl:7"
     ]
    }
   ],
   "source": [
    "function compute_covariance(directory_path::Matrix{Float64})\n",
    "    \n",
    "    cov_matrix = cov(returns)\n",
    "    return cov_matrix\n",
    "    \n",
    "end\n",
    "cov_matrix_data = compute_covariance(returns_matrix)\n",
    "println(\"Covariance matrix of three different assets:\\n\", cov_matrix_data)"
   ]
  },
  {
   "cell_type": "code",
   "execution_count": null,
   "id": "cb8cc9b1-76e6-4370-bc11-734a623b57a6",
   "metadata": {},
   "outputs": [],
   "source": [
    "using JuMP, Ipopt, PyPlot, LinearAlgebra\n",
    "\n",
    "# Given parameters\n",
    "#=\n",
    "μ = [0.1605, 0.1194, 0.0063, 0.1608, 0.1914]\n",
    "\n",
    "Σ = [0.478772729 -0.094105897 0.011735631 -0.086955984 -0.090339195; \n",
    "    -0.094105897 0.404044905 0.074752991 0.235695145 0.342544199;\n",
    "    0.011735631 0.074752991 1.1 -0.682850019 -0.076567893;\n",
    "    -0.086955984 0.235695145 -0.682850019 0.900054574 0.407742435;\n",
    "    -0.090339195 0.342544199 -0.076567893 0.407742435 0.530447761]\n",
    "=#\n",
    "\n",
    "μ = final_df.EquityPercent\n",
    "Σ = cov_matrix\n",
    "\n",
    "R_min = 0.1  # Single R_min value\n",
    "λ = 1  # Fixed λ\n",
    "\n",
    "# Create model\n",
    "m = Model(Ipopt.Optimizer)\n",
    "@variable(m, x[1:25] >= 0)\n",
    "@constraint(m, sum(x) == 1)\n",
    "@constraint(m, μ'*x >= R_min)\n",
    "@objective(m, Min, -μ'*x + λ * (x'*Σ*x))\n",
    "\n",
    "# Solve\n",
    "optimize!(m)\n",
    "\n",
    "# Extract results\n",
    "status = termination_status(m)\n",
    "display(status)\n",
    "\n",
    "status = termination_status(m)\n",
    "if status == MOI.OPTIMAL || status == MOI.LOCALLY_SOLVED\n",
    "    println(\"The model is feasible.\")\n",
    "    figure(figsize=(10, 6))\n",
    "    bar(1:5, portfolio_weights, color=\"blue\", alpha=0.7)\n",
    "    xticks(1:5, [\"Asset $i\" for i in 1:5])\n",
    "    xlabel(\"Assets\")\n",
    "    ylabel(\"Portfolio Weight\")\n",
    "    title(\"Optimal Portfolio Weights for R_min = $R_min\")\n",
    "    grid(true)\n",
    "    show()\n",
    "    display(gcf())\n",
    "\n",
    "    # Print portfolio metrics\n",
    "    display(\"Portfolio Return: $portfolio_return\")\n",
    "    display(\"Portfolio Risk (Variance): $portfolio_risk\")\n",
    "    \n",
    "else\n",
    "    println(\"The model is not feasible. Status: $status\")\n",
    "end"
   ]
  },
  {
   "cell_type": "code",
   "execution_count": null,
   "id": "b69dcd3d",
   "metadata": {},
   "outputs": [],
   "source": [
    "function sensitivity_analysis(Σ::Matrix{Float64}, perturbation::Float64)\n",
    "    n_assets = size(Σ, 1)\n",
    "\n",
    "    # Solve the original problem\n",
    "    original_weights, original_risk = min_portfolio_risk(cov_matrix)\n",
    "\n",
    "    # Perturb the covariance matrix\n",
    "    perturbed_cov_matrix = Σ .+ perturbation * rand(n_assets, n_assets)\n",
    "\n",
    "    # Solve the perturbed problem\n",
    "    new_weights, new_risk = min_portfolio_risk(perturbed_cov_matrix)\n",
    "\n",
    "    return original_weights, original_risk, new_weights, new_risk\n",
    "end\n",
    "perturbation = 0.1  \n",
    "original_weights, original_risk, new_weights, new_risk = sensitivity_analysis(cov_matrix_data, perturbation)\n",
    "\n",
    "println(\"Original weights: \", original_weights)\n",
    "println(\"Original risk: \", original_risk)\n",
    "println(\"New weights after perturbation: \", new_weights)\n",
    "println(\"New risk after perturbation: \", new_risk)\n"
   ]
  },
  {
   "cell_type": "markdown",
   "metadata": {},
   "source": [
    "# 3. Solutions"
   ]
  },
  {
   "cell_type": "markdown",
   "id": "b364c6e7",
   "metadata": {},
   "source": [
    "# 4. Results and Discussion"
   ]
  },
  {
   "cell_type": "markdown",
   "metadata": {},
   "source": [
    "# 5. Conclusion"
   ]
  },
  {
   "cell_type": "markdown",
   "metadata": {},
   "source": [
    "# 6. Appendix"
   ]
  }
 ],
 "metadata": {
  "kernelspec": {
   "display_name": "Julia 1.11.1",
   "language": "julia",
   "name": "julia-1.11"
  },
  "language_info": {
   "file_extension": ".jl",
   "mimetype": "application/julia",
   "name": "julia",
   "version": "1.11.1"
  }
 },
 "nbformat": 4,
 "nbformat_minor": 5
}
