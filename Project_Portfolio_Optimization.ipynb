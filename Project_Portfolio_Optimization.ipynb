{
 "cells": [
  {
   "cell_type": "markdown",
   "id": "ed428b65-635d-404e-94df-5d733ce8310c",
   "metadata": {},
   "source": [
    "# Portfolio Optimization Project\n",
    "\n",
    "## CS/ECE/ISyE 524 — Introduction to Optimization — Fall 2024\n",
    "\n",
    "### Project Members: Pawin Linmaneechote, Vincent Philavong, Jiajie Yao"
   ]
  },
  {
   "cell_type": "code",
   "execution_count": 2,
   "id": "cb8cc9b1-76e6-4370-bc11-734a623b57a6",
   "metadata": {},
   "outputs": [
    {
     "name": "stdout",
     "output_type": "stream",
     "text": [
      "\n",
      "******************************************************************************\n",
      "This program contains Ipopt, a library for large-scale nonlinear optimization.\n",
      " Ipopt is released as open source code under the Eclipse Public License (EPL).\n",
      "         For more information visit https://github.com/coin-or/Ipopt\n",
      "******************************************************************************\n",
      "\n",
      "This is Ipopt version 3.14.16, running with linear solver MUMPS 5.7.3.\n",
      "\n",
      "Number of nonzeros in equality constraint Jacobian...:        5\n",
      "Number of nonzeros in inequality constraint Jacobian.:        0\n",
      "Number of nonzeros in Lagrangian Hessian.............:       15\n",
      "\n",
      "Total number of variables............................:        5\n",
      "                     variables with only lower bounds:        5\n",
      "                variables with lower and upper bounds:        0\n",
      "                     variables with only upper bounds:        0\n",
      "Total number of equality constraints.................:        1\n",
      "Total number of inequality constraints...............:        0\n",
      "        inequality constraints with only lower bounds:        0\n",
      "   inequality constraints with lower and upper bounds:        0\n",
      "        inequality constraints with only upper bounds:        0\n",
      "\n",
      "iter    objective    inf_pr   inf_du lg(mu)  ||d||  lg(rg) alpha_du alpha_pr  ls\n",
      "   0 -6.0343320e-03 9.50e-01 1.16e-01  -1.0 0.00e+00    -  0.00e+00 0.00e+00   0\n",
      "   1  1.1459017e-02 0.00e+00 1.72e+01  -1.7 1.92e-01    -  5.43e-02 1.00e+00f  1\n",
      "   2 -1.6462812e-02 0.00e+00 2.00e-07  -1.7 1.40e-01    -  1.00e+00 1.00e+00f  1\n",
      "   3 -1.6472882e-02 1.11e-16 2.83e-08  -2.5 3.05e-03    -  1.00e+00 1.00e+00f  1\n",
      "   4 -1.6818521e-02 2.22e-16 2.61e-04  -3.8 1.84e-02    -  9.89e-01 1.00e+00f  1\n",
      "   5 -1.6909111e-02 0.00e+00 9.55e-05  -5.7 1.62e-02    -  9.86e-01 1.00e+00f  1\n",
      "   6 -1.6918096e-02 1.11e-16 1.84e-11  -5.7 6.44e-03    -  1.00e+00 1.00e+00f  1\n",
      "   7 -1.6918303e-02 0.00e+00 1.19e-06  -8.6 1.10e-03    -  9.97e-01 1.00e+00f  1\n",
      "   8 -1.6918303e-02 0.00e+00 2.51e-14  -8.6 3.15e-05    -  1.00e+00 1.00e+00f  1\n",
      "\n",
      "Number of Iterations....: 8\n",
      "\n",
      "                                   (scaled)                 (unscaled)\n",
      "Objective...............:  -1.6918302744720046e-02   -1.6918302744720046e-02\n",
      "Dual infeasibility......:   2.5075455651748218e-14    2.5075455651748218e-14\n",
      "Constraint violation....:   0.0000000000000000e+00    0.0000000000000000e+00\n",
      "Variable bound violation:   0.0000000000000000e+00    0.0000000000000000e+00\n",
      "Complementarity.........:   2.8595090987747076e-09    2.8595090987747076e-09\n",
      "Overall NLP error.......:   2.8595090987747076e-09    2.8595090987747076e-09\n",
      "\n",
      "\n",
      "Number of objective function evaluations             = 9\n",
      "Number of objective gradient evaluations             = 9\n",
      "Number of equality constraint evaluations            = 9\n",
      "Number of inequality constraint evaluations          = 0\n",
      "Number of equality constraint Jacobian evaluations   = 1\n",
      "Number of inequality constraint Jacobian evaluations = 0\n",
      "Number of Lagrangian Hessian evaluations             = 1\n",
      "Total seconds in IPOPT                               = 0.042\n",
      "\n",
      "EXIT: Optimal Solution Found.\n"
     ]
    }
   ],
   "source": [
    "# find optimal portfolio for one particular choice of λ\n",
    "using JuMP, Ipopt, PyPlot, JuMP, LinearAlgebra\n",
    "\n",
    "μ = [0.1605,0.1194,0.0063,0.1608,0.1914]\n",
    "\n",
    "Σ = [0.478772729 -0.094105897 0.011735631 -0.086955984 -0.090339195; \n",
    "    -0.094105897 0.404044905 0.074752991 0.235695145 0.342544199;\n",
    "    0.011735631 0.074752991 1.1 -0.682850019 -0.076567893;\n",
    "    -0.086955984 0.235695145 -0.682850019 0.900054574 0.407742435;\n",
    "    -0.090339195 0.342544199 -0.076567893 0.407742435 0.530447761]\n",
    "\n",
    "# model\n",
    "m = Model(Ipopt.Optimizer)\n",
    "@variable(m, x[1:5] >= 0)\n",
    "@constraint(m, sum(x) == 1)\n",
    "\n",
    "figure(figsize=(12,8))\n",
    "subplot(211)\n",
    "λ = 1\n",
    "\n",
    "@objective(m, Min, -μ'*x + λ*(x'*Σ*x) )\n",
    "optimize!(m)\n"
   ]
  },
  {
   "cell_type": "code",
   "execution_count": 6,
   "id": "4bd11572",
   "metadata": {},
   "outputs": [
    {
     "name": "stdout",
     "output_type": "stream",
     "text": [
      "Optimal Portfolio Weights: [0.3424941072816525, 0.040164615538818435, 0.2194570151425043, 0.2759404554428022, 0.12194380659422259]\n",
      "Optimal Objective Value: -0.016918302744720046\n"
     ]
    }
   ],
   "source": [
    "optimal_weights = value.(x)\n",
    "println(\"Optimal Portfolio Weights: \", optimal_weights)\n",
    "\n",
    "# Extract the optimal objective value\n",
    "optimal_value = objective_value(m)\n",
    "println(\"Optimal Objective Value: \", optimal_value)"
   ]
  },
  {
   "cell_type": "code",
   "execution_count": 3,
   "id": "e9bbddd8",
   "metadata": {},
   "outputs": [
    {
     "name": "stdout",
     "output_type": "stream",
     "text": [
      "hello world\n"
     ]
    }
   ],
   "source": [
    "println(\"hello world\")"
   ]
  },
  {
   "cell_type": "code",
   "execution_count": null,
   "id": "b364c6e7",
   "metadata": {},
   "outputs": [],
   "source": []
  }
 ],
 "metadata": {
  "kernelspec": {
   "display_name": "Julia 1.11.1",
   "language": "julia",
   "name": "julia-1.11"
  },
  "language_info": {
   "file_extension": ".jl",
   "mimetype": "application/julia",
   "name": "julia",
   "version": "1.11.1"
  }
 },
 "nbformat": 4,
 "nbformat_minor": 5
}
