{
 "cells": [
  {
   "cell_type": "markdown",
   "id": "ed428b65-635d-404e-94df-5d733ce8310c",
   "metadata": {},
   "source": [
    "# Portfolio Optimization Project\n",
    "\n",
    "### CS/ECE/ISyE 524 — Introduction to Optimization — Fall 2024\n",
    "\n",
    "### Project Members: Pawin Linmaneechote, Vincent Philavong, Jiajie Yao"
   ]
  },
  {
   "cell_type": "markdown",
   "id": "f76e9aeb",
   "metadata": {},
   "source": [
    "## Table of Contents\n",
    "1. Introduction  \n",
    "    1.1. Project Motivation  \n",
    "    1.2. Data Processing  \n",
    "2. Mathematical Model  \n",
    "    2.1 Mean Variance Model  \n",
    "    2.2 Mean Variance Model + Ridge Regression  \n",
    "    2.3 Sharpe SOCP Model  \n",
    "3. Solution  \n",
    "    3.1 Trade Off Analysis  \n",
    "    3.2 Sensitivity Analysis  \n",
    "4. Results and Discussion\n",
    "5. Conclusion\n",
    "6. Appendix\n",
    "7. References"
   ]
  },
  {
   "cell_type": "markdown",
   "id": "7ab4835a",
   "metadata": {},
   "source": [
    "# 1. Introduction\n",
    "## 1.1. Project Motivation\n",
    "Investing is about making smart decisions to balance the trade-offs between risk and reward. In this project, we explore portfolio optimization by analyzing financial data from Yahoo Finance. We’ve chosen five stocks from key sectors - Technology, Financials, Healthcare, Communication Services, and Industrials - to build a diversified portfolio. This selection spreads risk across industries while aiming to capture each sector’s growth potential. The list of the stock sectors and the individual stocks can be seen below.\n",
    "- Technology\n",
    "    - Apple (AAPL)\n",
    "    - Uber (UBER)\n",
    "    - Microsoft (MSFT)\n",
    "    - NVIDIA (NVDA)\n",
    "    - Advanced Micro Devices (AMD)\n",
    "- Financial\n",
    "    - Discover (DFS)\n",
    "    - JP Morgan (๋JPM)\n",
    "    - Synchrony (SYF)\n",
    "    - American Express (AXP)\n",
    "    - Goldman Sachs (GS)\n",
    "- Health Care\n",
    "    - Pfizer (PFE)\n",
    "    - Johnson & Johnson (JNJ)\n",
    "    - Merck Sharp & Dohme (MRK)\n",
    "    - United Health Group (UNH)\n",
    "    - ABBVie (ABBV)\n",
    "- Communication Services\n",
    "    - Meta (META)\n",
    "    - Google (GOOG)\n",
    "    - Netflix (NFLX)\n",
    "    - T-Mobile (TMUS)\n",
    "    - The Walt Disney Services (DIS)\n",
    "- Industrials\n",
    "    - Caterpillar (CAT)\n",
    "    - RTX Coorporation (RTX)\n",
    "    - The Boeing Company (BA)\n",
    "    - Union Pacific Corperation (UNP)\n",
    "    - Eaton Corporation PLC (ETN)\n",
    "\n",
    "Our project focuses on optimizing three models. The first serves as our baseline, addressing the challenge of balancing high returns with low risk by analyzing the performance and relationships between the selected stocks. The second builds on the baseline by incorporating Ridge Regularization, which we believe will further enhance diversification within the portfolio. For the third model, we introduce a Sharpe SOCP model, focusing on maximizing returns while minimizing risk more effectively.\n",
    "\n",
    "Portfolio optimization has been a topic of interest for investors and researchers for decades. It’s rooted in the uncertainty of financial markets, where both short-term gains and long-term stability needed careful evaluation. The economist, Harry Markowitz, revolutionized this field in 1952 with his paper Portfolio Selection, introducing diversification as a way to reduce risk (Team Investopedia, 2023). His work laid the groundwork for modern portfolio theory (MPT) and earned him a Nobel Prize. Yet, as markets continue to evolve, ongoing research is critical to adapting strategies for changing conditions like volatility, economic shifts, and new investor behaviors.\n",
    "\n",
    "This report is structured into four sections: the Mathematical Model, where we define the decision variables, constraints, and objective function; the Solution, where we implement the model in Julia; Results and Discussion, where we present and interpret the outcomes; and the Conclusion, summarizing our findings and proposing future directions."
   ]
  },
  {
   "cell_type": "markdown",
   "id": "19e6ed4f",
   "metadata": {},
   "source": [
    "## 1.2 Data Preparation"
   ]
  },
  {
   "cell_type": "code",
   "execution_count": 2,
   "id": "a7126912",
   "metadata": {},
   "outputs": [
    {
     "name": "stderr",
     "output_type": "stream",
     "text": [
      "\u001b[36m\u001b[1m[ \u001b[22m\u001b[39m\u001b[36m\u001b[1mInfo: \u001b[22m\u001b[39mPrecompiling Ipopt [b6b21f68-93f8-5de0-b562-5493be1d77c9]\n"
     ]
    },
    {
     "name": "stdout",
     "output_type": "stream",
     "text": [
      "Column names:[\"Date\", \"AAPL\", \"ABBV\", \"AMD\", \"AXP\", \"BA\", \"CAT\", \"DFS\", \"DIS\", \"ETN\", \"GOOG\", \"GS\", \"JNJ\", \"JPM\", \"META\", \"MRK\", \"MSFT\", \"NFLX\", \"NVDA\", \"PFE\", \"RTX\", \"SYF\", \"TMUS\", \"UBER\", \"UNH\", \"UNP\"]\n",
      "Type of column names:DataType[String, String, String, String, String, String, String, String, String, String, String, String, String, String, String, String, String, String, String, String, String, String, String, String, String, String]\n",
      "Number of asset names:25\n",
      "Length of μ:25\n",
      "Size of Σ:(25, 25)\n",
      "Number of assets (n_assets):25\n"
     ]
    }
   ],
   "source": [
    "using CSV, DataFrames, Dates, Statistics, JuMP, Ipopt, PyPlot, LinearAlgebra\n",
    "\n",
    "# Define the directory containing the stock CSV files\n",
    "directory_path = \"data_files/\"\n",
    "\n",
    "# Initialize an empty DataFrame to hold daily returns\n",
    "returns_df = DataFrame(Date = Date[])\n",
    "\n",
    "# Read each stock CSV file and compute daily returns\n",
    "for file in readdir(directory_path)\n",
    "    if endswith(file, \".csv\")\n",
    "        file_path = joinpath(directory_path, file)\n",
    "        stock_df = CSV.read(file_path, DataFrame)\n",
    "\n",
    "        # Ensure the Date column is of Date type\n",
    "        stock_df.Date = Date.(string.(stock_df.Date), \"yyyy-mm-dd\")\n",
    "        sort!(stock_df, :Date)\n",
    "\n",
    "        stock_name = splitext(basename(file))[1]\n",
    "\n",
    "        # Calculate daily logarithmic returns\n",
    "        stock_df[!, :DailyReturn] = [missing; diff(log.(stock_df.Close))]\n",
    "\n",
    "        # Create a DataFrame with Date and DailyReturn\n",
    "        stock_returns = stock_df[:, [:Date, :DailyReturn]]\n",
    "        rename!(stock_returns, :DailyReturn => stock_name)\n",
    "\n",
    "        # Merge with the returns_df\n",
    "        if nrow(returns_df) == 0\n",
    "            returns_df = stock_returns\n",
    "        else\n",
    "            returns_df = outerjoin(returns_df, stock_returns, on = :Date)\n",
    "        end\n",
    "    end\n",
    "end\n",
    "\n",
    "# Remove rows with missing values\n",
    "complete_cases = dropmissing(returns_df, disallowmissing=true)\n",
    "\n",
    "# --- Extract Asset Names and Prepare Data ---\n",
    "\n",
    "# Extract asset names excluding the Date column\n",
    "# Check the type of column names\n",
    "col_names = names(complete_cases)\n",
    "println(\"Column names:\", col_names)\n",
    "println(\"Type of column names:\", typeof.(col_names))\n",
    "\n",
    "# Adjust based on the type\n",
    "if eltype(col_names) == String\n",
    "    asset_names = setdiff(col_names, [\"Date\"])\n",
    "elseif eltype(col_names) == Symbol\n",
    "    asset_names = setdiff(col_names, [:Date])\n",
    "else\n",
    "    error(\"Unexpected column name types.\")\n",
    "end\n",
    "\n",
    "# Convert asset_names to strings if necessary\n",
    "asset_names = string.(asset_names)\n",
    "\n",
    "# Verify lengths\n",
    "println(\"Number of asset names:\", length(asset_names))\n",
    "\n",
    "# Extract the matrix of returns (excluding the Date column)\n",
    "returns_matrix = Matrix(complete_cases[:, asset_names])\n",
    "\n",
    "# --- Compute Expected Returns and Covariance Matrix ---\n",
    "\n",
    "trading_days_per_year = 252  # Number of trading days in a year\n",
    "\n",
    "# Compute expected daily returns\n",
    "μ_daily = mean(returns_matrix, dims=1)\n",
    "μ_daily = vec(μ_daily)  # Convert to a vector\n",
    "\n",
    "# Annualize expected returns (using compounding)\n",
    "μ = (1 .+ μ_daily) .^ trading_days_per_year .- 1\n",
    "\n",
    "# Verify length of μ\n",
    "println(\"Length of μ:\", length(μ))\n",
    "\n",
    "# Compute daily covariance matrix\n",
    "Σ_daily = cov(returns_matrix, dims=1)\n",
    "\n",
    "# Annualize covariance matrix\n",
    "Σ = Σ_daily * trading_days_per_year\n",
    "\n",
    "# Verify size of Σ\n",
    "println(\"Size of Σ:\", size(Σ))\n",
    "\n",
    "# Number of assets\n",
    "n_assets = length(μ)\n",
    "println(\"Number of assets (n_assets):\", n_assets)\n",
    "\n"
   ]
  },
  {
   "cell_type": "markdown",
   "id": "9b4cc839",
   "metadata": {},
   "source": [
    "# 2. Mathematical Model\n",
    "\n",
    "Add picture of graph to paste into section 3"
   ]
  },
  {
   "cell_type": "markdown",
   "id": "3ef20c8e",
   "metadata": {},
   "source": [
    "# 3. Solutions"
   ]
  },
  {
   "cell_type": "markdown",
   "id": "6593b44b",
   "metadata": {},
   "source": [
    "## 3.1 Mean Variance Model"
   ]
  },
  {
   "cell_type": "code",
   "execution_count": 3,
   "id": "3a2fb74d",
   "metadata": {},
   "outputs": [
    {
     "name": "stdout",
     "output_type": "stream",
     "text": [
      "\n",
      "******************************************************************************\n",
      "This program contains Ipopt, a library for large-scale nonlinear optimization.\n",
      " Ipopt is released as open source code under the Eclipse Public License (EPL).\n",
      "         For more information visit https://github.com/coin-or/Ipopt\n",
      "******************************************************************************\n",
      "\n",
      "This is Ipopt version 3.14.16, running with linear solver MUMPS 5.7.3.\n",
      "\n",
      "Number of nonzeros in equality constraint Jacobian...:       25\n",
      "Number of nonzeros in inequality constraint Jacobian.:        0\n",
      "Number of nonzeros in Lagrangian Hessian.............:        0\n",
      "\n",
      "Total number of variables............................:       25\n",
      "                     variables with only lower bounds:       25\n",
      "                variables with lower and upper bounds:        0\n",
      "                     variables with only upper bounds:        0\n",
      "Total number of equality constraints.................:        1\n",
      "Total number of inequality constraints...............:        0\n",
      "        inequality constraints with only lower bounds:        0\n",
      "   inequality constraints with lower and upper bounds:        0\n",
      "        inequality constraints with only upper bounds:        0\n",
      "\n",
      "iter    objective    inf_pr   inf_du lg(mu)  ||d||  lg(rg) alpha_du alpha_pr  ls\n",
      "   0  4.4272567e-02 7.50e-01 7.57e-01  -1.0 0.00e+00    -  0.00e+00 0.00e+00   0\n",
      "   1  1.8642701e-01 3.33e-16 1.77e+00  -1.7 3.76e-02    -  3.59e-01 1.00e+00f  1\n",
      "   2  4.9856935e-01 4.44e-16 1.34e+00  -1.7 1.35e+00    -  1.00e+00 2.91e-01f  2\n",
      "   3  4.8548768e-01 4.44e-16 2.00e-07  -1.7 1.96e-02    -  1.00e+00 1.00e+00f  1\n",
      "   4  8.6966380e-01 1.11e-16 6.05e-02  -3.8 4.95e-01    -  4.60e-01 1.00e+00f  1\n",
      "   5  9.3029182e-01 0.00e+00 1.50e-09  -3.8 7.98e-02    -  1.00e+00 1.00e+00f  1\n",
      "   6  9.3384377e-01 0.00e+00 1.84e-11  -5.7 4.60e-03    -  1.00e+00 1.00e+00f  1\n",
      "   7  9.3388873e-01 2.22e-16 2.51e-14  -8.6 5.83e-05    -  1.00e+00 1.00e+00f  1\n",
      "\n",
      "Number of Iterations....: 7\n",
      "\n",
      "                                   (scaled)                 (unscaled)\n",
      "Objective...............:  -9.3388873050568877e-01    9.3388873050568877e-01\n",
      "Dual infeasibility......:   2.5091040356528538e-14    2.5091040356528538e-14\n",
      "Constraint violation....:   2.2204460492503131e-16    2.2204460492503131e-16\n",
      "Variable bound violation:   7.7014962178476327e-09    7.7014962178476327e-09\n",
      "Complementarity.........:   2.5092390452025609e-09    2.5092390452025609e-09\n",
      "Overall NLP error.......:   2.5092390452025609e-09    2.5092390452025609e-09\n",
      "\n",
      "\n",
      "Number of objective function evaluations             = 9\n",
      "Number of objective gradient evaluations             = 8\n",
      "Number of equality constraint evaluations            = 9\n",
      "Number of inequality constraint evaluations          = 0\n",
      "Number of equality constraint Jacobian evaluations   = 1\n",
      "Number of inequality constraint Jacobian evaluations = 0\n",
      "Number of Lagrangian Hessian evaluations             = 1\n",
      "Total seconds in IPOPT                               = 0.008\n",
      "\n",
      "EXIT: Optimal Solution Found.\n"
     ]
    },
    {
     "data": {
      "text/plain": [
       "LOCALLY_SOLVED::TerminationStatusCode = 4"
      ]
     },
     "metadata": {},
     "output_type": "display_data"
    },
    {
     "name": "stdout",
     "output_type": "stream",
     "text": [
      "The model is feasible.\n"
     ]
    },
    {
     "ename": "LoadError",
     "evalue": "UndefVarError: `R_min` not defined",
     "output_type": "error",
     "traceback": [
      "UndefVarError: `R_min` not defined",
      "",
      "Stacktrace:",
      " [1] top-level scope",
      "   @ In[3]:34"
     ]
    }
   ],
   "source": [
    "λ = 0     # Risk aversion parameter\n",
    "\n",
    "# Create optimization model\n",
    "m = Model(Ipopt.Optimizer)\n",
    "\n",
    "@variable(m, x[1:n_assets] >= 0)\n",
    "@constraint(m, sum(x) == 1)\n",
    "\n",
    "@objective(m, Max, μ' * x - λ * (x' * Σ * x))\n",
    "\n",
    "# Solve the model\n",
    "optimize!(m)\n",
    "\n",
    "# Check solution status\n",
    "status = termination_status(m)\n",
    "display(status)\n",
    "\n",
    "if status == MOI.OPTIMAL || status == MOI.LOCALLY_SOLVED\n",
    "    println(\"The model is feasible.\")\n",
    "\n",
    "    # Extract optimal portfolio weights\n",
    "    portfolio_weights = value.(x)\n",
    "\n",
    "    # Compute portfolio return and risk\n",
    "    portfolio_return = μ' * portfolio_weights  # Annual expected return\n",
    "    portfolio_risk = sqrt(portfolio_weights' * Σ * portfolio_weights)  # Annual standard deviation\n",
    "\n",
    "    # --- Plotting ---\n",
    "    figure(figsize=(12, 6))\n",
    "    bar(1:n_assets, portfolio_weights, color=\"blue\", alpha=0.7)\n",
    "    xticks(1:n_assets, asset_names, rotation=90)\n",
    "    xlabel(\"Assets\")\n",
    "    ylabel(\"Portfolio Weight\")\n",
    "    title(\"Optimal Portfolio Weights for R_min = $R_min\")\n",
    "    grid(true)\n",
    "    tight_layout()\n",
    "    show()\n",
    "\n",
    "    # --- Display Portfolio Metrics ---\n",
    "    println(\"Portfolio Expected Annual Return: $portfolio_return\")\n",
    "    println(\"Portfolio Risk (Annual Standard Deviation): $portfolio_risk\")\n",
    "else\n",
    "    println(\"The model is not feasible. Status: $status\")\n",
    "end"
   ]
  },
  {
   "cell_type": "markdown",
   "id": "a1cb15b9",
   "metadata": {},
   "source": [
    "## 3.2 Mean Variance Model + RIDGE Regression"
   ]
  },
  {
   "cell_type": "code",
   "execution_count": 28,
   "id": "cb8cc9b1-76e6-4370-bc11-734a623b57a6",
   "metadata": {},
   "outputs": [
    {
     "data": {
      "text/plain": [
       "LOCALLY_SOLVED::TerminationStatusCode = 4"
      ]
     },
     "metadata": {},
     "output_type": "display_data"
    },
    {
     "name": "stdout",
     "output_type": "stream",
     "text": [
      "This is Ipopt version 3.14.16, running with linear solver MUMPS 5.7.3.\n",
      "\n",
      "Number of nonzeros in equality constraint Jacobian...:       25\n",
      "Number of nonzeros in inequality constraint Jacobian.:        0\n",
      "Number of nonzeros in Lagrangian Hessian.............:       25\n",
      "\n",
      "Total number of variables............................:       25\n",
      "                     variables with only lower bounds:       25\n",
      "                variables with lower and upper bounds:        0\n",
      "                     variables with only upper bounds:        0\n",
      "Total number of equality constraints.................:        1\n",
      "Total number of inequality constraints...............:        0\n",
      "        inequality constraints with only lower bounds:        0\n",
      "   inequality constraints with lower and upper bounds:        0\n",
      "        inequality constraints with only upper bounds:        0\n",
      "\n",
      "iter    objective    inf_pr   inf_du lg(mu)  ||d||  lg(rg) alpha_du alpha_pr  ls\n",
      "   0 -2.4557224e+00 7.50e-01 7.57e-01  -1.0 0.00e+00    -  0.00e+00 0.00e+00   0\n",
      "   1 -3.9822677e+01 1.11e-16 1.05e+00  -1.7 3.04e-02    -  4.86e-01 1.00e+00h  1\n",
      "   2 -3.9822676e+01 1.11e-16 2.00e-07  -1.7 1.58e-05    -  1.00e+00 1.00e+00f  1\n",
      "   3 -3.9822676e+01 0.00e+00 1.50e-09  -3.8 2.20e-06    -  1.00e+00 1.00e+00h  1\n",
      "   4 -3.9822676e+01 0.00e+00 1.85e-11  -5.7 3.09e-08    -  1.00e+00 1.00e+00f  1\n",
      "   5 -3.9822676e+01 2.22e-16 3.40e-14  -8.6 2.17e-10    -  1.00e+00 1.00e+00f  1\n",
      "\n",
      "Number of Iterations....: 5\n",
      "\n",
      "                                   (scaled)                 (unscaled)\n",
      "Objective...............:   3.9822676141791916e+01   -3.9822676141791916e+01\n",
      "Dual infeasibility......:   3.3961487864563739e-14    3.3961487864563739e-14\n",
      "Constraint violation....:   2.2204460492503131e-16    2.2204460492503131e-16\n",
      "Variable bound violation:   0.0000000000000000e+00    0.0000000000000000e+00\n",
      "Complementarity.........:   2.5059080530535619e-09    2.5059080530535619e-09\n",
      "Overall NLP error.......:   2.5059080530535619e-09    2.5059080530535619e-09\n",
      "\n",
      "\n",
      "Number of objective function evaluations             = 6\n",
      "Number of objective gradient evaluations             = 6\n",
      "Number of equality constraint evaluations            = 6\n",
      "Number of inequality constraint evaluations          = 0\n",
      "Number of equality constraint Jacobian evaluations   = 1\n",
      "Number of inequality constraint Jacobian evaluations = 0\n",
      "Number of Lagrangian Hessian evaluations             = 1\n",
      "Total seconds in IPOPT                               = 0.011\n",
      "\n",
      "EXIT: Optimal Solution Found.\n",
      "The model is feasible.\n",
      "Portfolio Expected Annual Return: 0.17755727230093213"
     ]
    },
    {
     "name": "stderr",
     "output_type": "stream",
     "text": [
      "sys:1: UserWarning: FigureCanvasAgg is non-interactive, and thus cannot be shown\n"
     ]
    },
    {
     "name": "stdout",
     "output_type": "stream",
     "text": [
      "\n",
      "Portfolio Risk (Annual Standard Deviation): 0.240325500207816\n"
     ]
    }
   ],
   "source": [
    "λ = 0     # Risk aversion parameter\n",
    "γ = 1000        # Diversification parameter\n",
    "\n",
    "# Create optimization model\n",
    "m = Model(Ipopt.Optimizer)\n",
    "\n",
    "@variable(m, x[1:n_assets] >= 0)\n",
    "@constraint(m, sum(x) == 1)\n",
    "#@constraint(m, [i in 1:n_assets], x[i] <= 0.15)\n",
    "\n",
    "@objective(m, Max, μ' * x - λ * (x' * Σ * x) - γ * sum(x[i]^2 for i in 1:n_assets))\n",
    "\n",
    "# Solve the model\n",
    "optimize!(m)\n",
    "\n",
    "# Check solution status\n",
    "status = termination_status(m)\n",
    "display(status)\n",
    "\n",
    "if status == MOI.OPTIMAL || status == MOI.LOCALLY_SOLVED\n",
    "    println(\"The model is feasible.\")\n",
    "\n",
    "    # Extract optimal portfolio weights\n",
    "    portfolio_weights = value.(x)\n",
    "\n",
    "    # Compute portfolio return and risk\n",
    "    portfolio_return = μ' * portfolio_weights  # Annual expected return\n",
    "    portfolio_risk = sqrt(portfolio_weights' * Σ * portfolio_weights)  # Annual standard deviation\n",
    "\n",
    "    # --- Plotting ---\n",
    "    figure(figsize=(12, 6))\n",
    "    bar(1:n_assets, portfolio_weights, color=\"blue\", alpha=0.7)\n",
    "    xticks(1:n_assets, asset_names, rotation=90)\n",
    "    xlabel(\"Assets\")\n",
    "    ylabel(\"Portfolio Weight\")\n",
    "    title(\"Optimal Portfolio Weights\")\n",
    "    grid(true)\n",
    "    tight_layout()\n",
    "    show()\n",
    "\n",
    "    # --- Display Portfolio Metrics ---\n",
    "    println(\"Portfolio Expected Annual Return: $portfolio_return\")\n",
    "    println(\"Portfolio Risk (Annual Standard Deviation): $portfolio_risk\")\n",
    "else\n",
    "    println(\"The model is not feasible. Status: $status\")\n",
    "end"
   ]
  },
  {
   "cell_type": "markdown",
   "id": "be3bda0c",
   "metadata": {},
   "source": [
    "## 3.3 Sharpe SOCP Model"
   ]
  },
  {
   "cell_type": "code",
   "execution_count": 29,
   "id": "5d8644d4",
   "metadata": {},
   "outputs": [
    {
     "data": {
      "text/plain": [
       "LOCALLY_SOLVED::TerminationStatusCode = 4"
      ]
     },
     "metadata": {},
     "output_type": "display_data"
    },
    {
     "name": "stdout",
     "output_type": "stream",
     "text": [
      "This is Ipopt version 3.14.16, running with linear solver MUMPS 5.7.3.\n",
      "\n",
      "Number of nonzeros in equality constraint Jacobian...:       25\n",
      "Number of nonzeros in inequality constraint Jacobian.:       26\n",
      "Number of nonzeros in Lagrangian Hessian.............:      376\n",
      "\n",
      "Total number of variables............................:       26\n",
      "                     variables with only lower bounds:       26\n",
      "                variables with lower and upper bounds:        0\n",
      "                     variables with only upper bounds:        0\n",
      "Total number of equality constraints.................:        1\n",
      "Total number of inequality constraints...............:        1\n",
      "        inequality constraints with only lower bounds:        0\n",
      "   inequality constraints with lower and upper bounds:        0\n",
      "        inequality constraints with only upper bounds:        1\n",
      "\n",
      "iter    objective    inf_pr   inf_du lg(mu)  ||d||  lg(rg) alpha_du alpha_pr  ls\n",
      "   0  2.4272542e-04 7.50e-01 1.02e+00  -1.0 0.00e+00    -  0.00e+00 0.00e+00   0\n",
      "   1  1.7642695e-02 4.44e-16 8.71e-01  -1.0 1.02e-01    -  8.56e-01 1.00e+00f  1\n",
      "   2  6.6228735e-01 0.00e+00 7.71e+00  -1.7 3.55e+00    -  6.63e-02 1.00e+00f  1\n",
      "   3  1.0227417e+00 5.44e-01 2.51e+00  -1.7 3.20e+00    -  5.73e-01 4.35e-01h  1\n",
      "   4  1.3597933e+00 3.32e-02 9.12e-01  -1.7 1.53e+00    -  1.00e+00 1.00e+00h  1\n",
      "   5  1.4475959e+00 2.22e-16 7.14e-02  -1.7 3.87e-01    -  1.00e+00 1.00e+00h  1\n",
      "   6  1.6083494e+00 1.11e-16 1.15e-01  -2.5 3.71e-01    -  8.41e-01 1.00e+00f  1\n",
      "   7  1.7061656e+00 3.79e-03 1.15e-02  -2.5 1.69e-01    -  1.00e+00 1.00e+00h  1\n",
      "   8  1.7455836e+00 2.22e-16 2.84e-02  -3.8 1.24e-01    -  8.39e-01 1.00e+00h  1\n",
      "   9  1.7561890e+00 7.14e-05 1.96e-04  -3.8 2.53e-02    -  1.00e+00 1.00e+00h  1\n",
      "iter    objective    inf_pr   inf_du lg(mu)  ||d||  lg(rg) alpha_du alpha_pr  ls\n",
      "  10  1.7601171e+00 4.52e-05 4.79e-04  -5.7 1.04e-02    -  9.69e-01 1.00e+00h  1\n",
      "  11  1.7602380e+00 0.00e+00 1.04e-06  -5.7 1.27e-03    -  1.00e+00 1.00e+00h  1\n",
      "  12  1.7602823e+00 3.85e-09 6.51e-09  -8.6 1.22e-04    -  1.00e+00 1.00e+00h  1\n",
      "\n",
      "Number of Iterations....: 12\n",
      "\n",
      "                                   (scaled)                 (unscaled)\n",
      "Objective...............:  -1.7602822622889363e+00    1.7602822622889363e+00\n",
      "Dual infeasibility......:   6.5100056498288954e-09    6.5100056498288954e-09\n",
      "Constraint violation....:   3.8490550138925526e-09    3.8490550138925526e-09\n",
      "Variable bound violation:   8.1036329327635005e-09    8.1036329327635005e-09\n",
      "Complementarity.........:   9.9813893462604267e-09    9.9813893462604267e-09\n",
      "Overall NLP error.......:   9.9813893462604267e-09    9.9813893462604267e-09\n",
      "\n",
      "\n",
      "Number of objective function evaluations             = 13\n",
      "Number of objective gradient evaluations             = 13\n",
      "Number of equality constraint evaluations            = 13\n",
      "Number of inequality constraint evaluations          = 13\n",
      "Number of equality constraint Jacobian evaluations   = 13\n",
      "Number of inequality constraint Jacobian evaluations = 13\n",
      "Number of Lagrangian Hessian evaluations             = 12\n",
      "Total seconds in IPOPT                               = 0.074\n",
      "\n",
      "EXIT: Optimal Solution Found.\n",
      "The model is feasible.\n"
     ]
    },
    {
     "name": "stderr",
     "output_type": "stream",
     "text": [
      "sys:1: UserWarning: FigureCanvasAgg is non-interactive, and thus cannot be shown\n"
     ]
    },
    {
     "name": "stdout",
     "output_type": "stream",
     "text": [
      "Portfolio Expected Annual Return: 65.86%\n",
      "Portfolio Risk (Annual Standard Deviation): 36.28%\n",
      "Maximum Sharpe Ratio: 1.7603\n"
     ]
    }
   ],
   "source": [
    "# Define your data\n",
    "n_assets = length(μ)\n",
    "r_f = 0.02    # Risk-free rate\n",
    "R_min = 0.05    # Minimum expected return (if needed)\n",
    "\n",
    "# Create optimization model\n",
    "m = Model(Ipopt.Optimizer)\n",
    "\n",
    "# Define variables\n",
    "@variable(m, w[1:n_assets] >= 0)   # Portfolio weights (non-negative)\n",
    "@variable(m, t >= 0)               # Scalar variable t\n",
    "\n",
    "# Objective function: maximize t * (μ' * w - r_f)\n",
    "@objective(m, Max, t * (dot(μ, w) - r_f))\n",
    "\n",
    "#@constraint(m, [i in 1:n_assets], w[i] <= 0.5)\n",
    "\n",
    "# Constraints\n",
    "@constraint(m, sum(w) == 1)        # Budget constraint\n",
    "\n",
    "# Nonlinear constraint: t^2 * w' * Σ * w <= 1\n",
    "@constraint(m, t^2 * w' * Σ * w  .<= 1)\n",
    "\n",
    "# Solve the model\n",
    "optimize!(m)\n",
    "\n",
    "# Check the termination status\n",
    "status = termination_status(m)\n",
    "display(status)\n",
    "\n",
    "if status == MOI.OPTIMAL || status == MOI.LOCALLY_SOLVED\n",
    "    println(\"The model is feasible.\")\n",
    "\n",
    "    # Extract optimal portfolio weights\n",
    "    portfolio_weights = value.(w)\n",
    "\n",
    "    # Compute portfolio return and risk\n",
    "    portfolio_return = dot(μ, portfolio_weights)  # Annual expected return\n",
    "    portfolio_risk = sqrt(dot(portfolio_weights, Σ * portfolio_weights))  # Annual standard deviation\n",
    "\n",
    "    # --- Plotting ---\n",
    "    figure(figsize=(12, 6))\n",
    "\n",
    "    # Plotting the bar chart\n",
    "    bar(1:n_assets, portfolio_weights, color=\"blue\", alpha=0.7)\n",
    "\n",
    "    # Set x-axis labels and rotation\n",
    "    xticks(1:n_assets, asset_names, rotation=90)\n",
    "\n",
    "    # Add labels and title\n",
    "    xlabel(\"Assets\")\n",
    "    ylabel(\"Portfolio Weight\")\n",
    "    title(\"Optimal Portfolio Weights\")\n",
    "\n",
    "    # Add grid and adjust layout\n",
    "    grid(true)\n",
    "    tight_layout()\n",
    "\n",
    "    # Display the plot\n",
    "    show()\n",
    "\n",
    "    # --- Display Portfolio Metrics ---\n",
    "    println(\"Portfolio Expected Annual Return: $(round(portfolio_return * 100, digits=2))%\")\n",
    "    println(\"Portfolio Risk (Annual Standard Deviation): $(round(portfolio_risk * 100, digits=2))%\")\n",
    "    println(\"Maximum Sharpe Ratio: $(round(objective_value(m), digits=4))\")\n",
    "else\n",
    "    println(\"The model is not feasible. Status: $status\")\n",
    "end\n"
   ]
  },
  {
   "cell_type": "markdown",
   "id": "2b6a5d58",
   "metadata": {},
   "source": [
    "# 4. Results and Discussion"
   ]
  },
  {
   "cell_type": "markdown",
   "id": "7c864d35",
   "metadata": {},
   "source": [
    "Add Solutions for all 3 models + explanations\n",
    "\n",
    "## 4.1 Mean Variance Solution\n",
    "\n",
    "## 4.2 Mean Variance + Ridge Regression Solution\n",
    "\n",
    "## 4.3 Sharpe SOCP Model Solution"
   ]
  },
  {
   "cell_type": "code",
   "execution_count": 30,
   "id": "0c5733fc",
   "metadata": {},
   "outputs": [
    {
     "name": "stdout",
     "output_type": "stream",
     "text": [
      "Sector weights: Dict{Any, Any}(String31(\"Health Care\") => 0.1998781353578667, String31(\"Technology\") => 0.1999684312140003, String31(\"Communication Services\") => 0.2002501235516875, String31(\"Financial\") => 0.19995663376844236, String31(\"Industrials\") => 0.1999466761080033)\n",
      "Total weight: 1.0000000000000002\n"
     ]
    }
   ],
   "source": [
    "# Calculate total weight for each sector\n",
    "sector_weights = Dict()\n",
    "for (i, sector) in enumerate(final_df.StockSector)\n",
    "    weight = value.(x)[i]\n",
    "    # Ensure weights are non-negative and handle very small numbers\n",
    "    weight = max(0, weight)\n",
    "    if weight > 1e-10  # Only add if weight is significant\n",
    "        sector_weights[sector] = get(sector_weights, sector, 0) + weight\n",
    "    end\n",
    "end\n",
    "\n",
    "println(\"Sector weights: \", sector_weights)\n",
    "println(\"Total weight: \", sum(values(sector_weights)))\n",
    "\n",
    "figure(figsize=(10, 8))\n",
    "pie(collect(values(sector_weights)), \n",
    "    labels=collect(keys(sector_weights)),\n",
    "    autopct=\"%1.1f%%\")\n",
    "title(\"Portfolio Sector Distribution\")\n",
    "savefig(\"sector_allocation.png\")"
   ]
  },
  {
   "cell_type": "code",
   "execution_count": null,
   "id": "06642126",
   "metadata": {},
   "outputs": [
    {
     "name": "stderr",
     "output_type": "stream",
     "text": [
      "sys:1: RuntimeWarning: More than 20 figures have been opened. Figures created through the pyplot interface (`matplotlib.pyplot.figure`) are retained until explicitly closed and may consume too much memory. (To control this warning, see the rcParam `figure.max_open_warning`). Consider using `matplotlib.pyplot.close()`.\n"
     ]
    }
   ],
   "source": [
    "sorted_weights = sort(collect(zip(final_df.StockName, value.(x))), by=x->x[2], rev=true)\n",
    "\n",
    "# Plot cumulative weights\n",
    "figure(figsize=(12, 6))\n",
    "weights = [w[2] for w in sorted_weights]\n",
    "cumsum_weights = cumsum(weights)\n",
    "plot(1:length(weights), cumsum_weights, \"ro-\")  # Changed 'ro-' to \"ro-\"\n",
    "xticks(1:length(weights), [w[1] for w in sorted_weights], rotation=45, ha=\"right\")\n",
    "xlabel(\"Stocks\")\n",
    "ylabel(\"Cumulative Weight\")\n",
    "title(\"Portfolio Cumulative Weight Distribution\")\n",
    "grid(true)\n",
    "tight_layout()\n",
    "savefig(\"cumulative_weights.png\")"
   ]
  },
  {
   "cell_type": "markdown",
   "id": "83694be1",
   "metadata": {},
   "source": [
    "## Trade-off Analysis "
   ]
  },
  {
   "cell_type": "code",
   "execution_count": 33,
   "id": "87e13cae",
   "metadata": {},
   "outputs": [],
   "source": [
    "\n",
    "λ_values = [1.0, 5.0, 10.0, 50.0, 100.0]\n",
    "\n",
    "R_min_values = [0.001, 1.0, 2.0, 3.0]\n",
    "\n",
    "\n",
    "function optimize_portfolio(μ, Σ, R_min, λ)\n",
    "    n = length(μ)\n",
    "    m = Model(Ipopt.Optimizer)\n",
    "    @variable(m, x[1:n] >= 0)\n",
    "    @constraint(m, sum(x) == 1)\n",
    "    @constraint(m, μ'*x >= R_min)\n",
    "    @objective(m, Min, -μ'*x + λ * (x'*Σ*x))\n",
    "    \n",
    "    optimize!(m)\n",
    "    return termination_status(m) in [MOI.OPTIMAL, MOI.LOCALLY_SOLVED] ? (value.(x), dot(μ, value.(x)), value.(x)'*Σ*value.(x)) : nothing\n",
    "end\n",
    "\n",
    "\n",
    "results = []\n",
    "for R_min in R_min_values\n",
    "    for λ in λ_values\n",
    "        println(\"analysis R_min = $R_min, λ = $λ\")\n",
    "        result = optimize_portfolio(μ, Σ, R_min, λ)\n",
    "        if !isnothing(result)\n",
    "            push!(results, (R_min, λ, result[2], result[3]))\n",
    "        end\n",
    "    end\n",
    "end\n",
    "\n",
    "println(\"\\nAnalysis result:\")\n",
    "for (R_min, λ, ret, risk) in results\n",
    "    println(\"R_min = $R_min, λ = $λ: Return = $(round(ret, digits=4)), Risk = $(round(risk, digits=4))\")\n",
    "end\n",
    "\n",
    "figure(figsize=(12, 5))\n",
    "\n",
    "for R_min in R_min_values\n",
    "    R_min_results = filter(r -> r[1] == R_min, results)\n",
    "    plot([r[2] for r in R_min_results], \n",
    "         [r[3] for r in R_min_results], \n",
    "         \"o-\", \n",
    "         label=\"R_min = $R_min\")\n",
    "end\n",
    "\n",
    "xlabel(\"Risk Aversion (λ)\")\n",
    "ylabel(\"Portfolio Return\")\n",
    "title(\"Return vs Risk Aversion\")\n",
    "legend()\n",
    "grid(true)\n",
    "savefig(\"sensitivity.png\")"
   ]
  },
  {
   "cell_type": "code",
   "execution_count": 32,
   "id": "02389a3f",
   "metadata": {},
   "outputs": [],
   "source": [
    "# Calculate risk and return for different λ values\n",
    "λ_values = [1.0, 5.0, 10.0, 50.0, 100.0]\n",
    "risk_return_pairs = []\n",
    "\n",
    "for λ_test in λ_values\n",
    "    m_test = Model(Ipopt.Optimizer)\n",
    "    @variable(m_test, x_test[1:25] >= 0)\n",
    "    @constraint(m_test, sum(x_test) == 1)\n",
    "    @constraint(m_test, μ'*x_test >= R_min)\n",
    "    @objective(m_test, Min, -μ'*x_test + λ_test * (x_test'*Σ*x_test))\n",
    "    optimize!(m_test)\n",
    "    \n",
    "    if termination_status(m_test) in [MOI.OPTIMAL, MOI.LOCALLY_SOLVED]\n",
    "        x_opt = value.(x_test)\n",
    "        risk = x_opt'*Σ*x_opt\n",
    "        ret = dot(μ, x_opt)\n",
    "        push!(risk_return_pairs, (risk, ret, λ_test))\n",
    "    end\n",
    "end\n",
    "\n",
    "# Plot risk-return curve\n",
    "figure(figsize=(10, 6))\n",
    "scatter([p[1] for p in risk_return_pairs], \n",
    "        [p[2] for p in risk_return_pairs], \n",
    "        c=\"blue\", s=100)\n",
    "for i in 1:length(risk_return_pairs)\n",
    "    annotate(\"λ=$(risk_return_pairs[i][3])\", \n",
    "             (risk_return_pairs[i][1], risk_return_pairs[i][2]))\n",
    "end\n",
    "xlabel(\"Portfolio Risk (Variance)\")\n",
    "ylabel(\"Expected Return (%)\")\n",
    "title(\"Risk-Return Trade-off Analysis\")\n",
    "grid(true)\n",
    "savefig(\"risk_return_tradeoff.png\")"
   ]
  },
  {
   "cell_type": "markdown",
   "id": "964abd43",
   "metadata": {},
   "source": [
    "## Sensitivity Analysis"
   ]
  },
  {
   "cell_type": "markdown",
   "id": "da12a020",
   "metadata": {},
   "source": [
    "##  Sensitivity Analysis\n",
    "\n",
    "The sensitivity analysis reveals complex interactions between the minimum return requirement (R_min) and risk aversion coefficient (λ). When R_min is low (0.001), the portfolio exhibits high sensitivity to changes in λ, with returns decreasing from 337.68% to 24.15% and risk reducing from 44.15% to 0.06% as λ increases from 1 to 100. This demonstrates the dominant effect of risk aversion when return constraints are not binding.\n",
    "\n",
    "However, as R_min increases, we observe a distinctive \"threshold effect\" where the minimum return constraint becomes binding, limiting the impact of risk aversion. For R_min = 2.0, the portfolio maintains a constant return of 200% and risk of 14.7% when λ ≥ 10, while for R_min = 3.0, the portfolio stabilizes at a 300% return and 34.52% risk when λ ≥ 5. This pattern indicates that higher minimum return requirements effectively constrain the risk-minimization objective, creating a floor for both return and risk levels regardless of further increases in risk aversion.\n",
    "\n",
    "These findings suggest that the effectiveness of risk control through λ adjustment is significantly influenced by the minimum return requirement, with higher R_min values reducing the available risk-return trade-off space. This interaction provides crucial insights for portfolio managers in setting appropriate risk-return targets and understanding their feasible investment options.\n"
   ]
  },
  {
   "cell_type": "markdown",
   "id": "0f46cd00",
   "metadata": {},
   "source": [
    "# 5. Conclusion"
   ]
  },
  {
   "cell_type": "markdown",
   "id": "4e0188ce",
   "metadata": {},
   "source": [
    "# 6. References\n",
    "\n",
    "- Team, T. I. (2023, August 29). Modern portfolio theory: What MPT is and how investors use it. Investopedia. https://www.investopedia.com/terms/m/modernportfoliotheory.asp?utm_source=chatgpt.com "
   ]
  },
  {
   "cell_type": "markdown",
   "id": "f9690570",
   "metadata": {},
   "source": []
  }
 ],
 "metadata": {
  "kernelspec": {
   "display_name": "Julia 1.10.0",
   "language": "julia",
   "name": "julia-1.10"
  },
  "language_info": {
   "file_extension": ".jl",
   "mimetype": "application/julia",
   "name": "julia",
   "version": "1.10.0"
  }
 },
 "nbformat": 4,
 "nbformat_minor": 5
}
